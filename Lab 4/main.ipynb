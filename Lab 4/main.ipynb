{
 "cells": [
  {
   "attachments": {},
   "cell_type": "markdown",
   "metadata": {},
   "source": [
    "# Laboratorio 4\n",
    "\n",
    "## Inteligencia Artificial\n",
    "\n",
    "### Andres de la Roca 20332"
   ]
  },
  {
   "cell_type": "code",
   "execution_count": 127,
   "metadata": {},
   "outputs": [],
   "source": [
    "import pandas as pd\n",
    "import numpy as np\n",
    "from matplotlib import pyplot as plt"
   ]
  },
  {
   "attachments": {},
   "cell_type": "markdown",
   "metadata": {},
   "source": [
    "### Task 1.1\n",
    "Leer el archivo CSV proporcionado y almacenarlo en un np.array para ser trabajado en el notebook."
   ]
  },
  {
   "cell_type": "code",
   "execution_count": 128,
   "metadata": {},
   "outputs": [],
   "source": [
    "data = pd.read_csv('framingham.csv')"
   ]
  },
  {
   "cell_type": "code",
   "execution_count": 129,
   "metadata": {},
   "outputs": [
    {
     "data": {
      "text/html": [
       "<div>\n",
       "<style scoped>\n",
       "    .dataframe tbody tr th:only-of-type {\n",
       "        vertical-align: middle;\n",
       "    }\n",
       "\n",
       "    .dataframe tbody tr th {\n",
       "        vertical-align: top;\n",
       "    }\n",
       "\n",
       "    .dataframe thead th {\n",
       "        text-align: right;\n",
       "    }\n",
       "</style>\n",
       "<table border=\"1\" class=\"dataframe\">\n",
       "  <thead>\n",
       "    <tr style=\"text-align: right;\">\n",
       "      <th></th>\n",
       "      <th>male</th>\n",
       "      <th>age</th>\n",
       "      <th>education</th>\n",
       "      <th>currentSmoker</th>\n",
       "      <th>cigsPerDay</th>\n",
       "      <th>BPMeds</th>\n",
       "      <th>prevalentStroke</th>\n",
       "      <th>prevalentHyp</th>\n",
       "      <th>diabetes</th>\n",
       "      <th>totChol</th>\n",
       "      <th>sysBP</th>\n",
       "      <th>diaBP</th>\n",
       "      <th>BMI</th>\n",
       "      <th>heartRate</th>\n",
       "      <th>glucose</th>\n",
       "      <th>TenYearCHD</th>\n",
       "    </tr>\n",
       "  </thead>\n",
       "  <tbody>\n",
       "    <tr>\n",
       "      <th>0</th>\n",
       "      <td>1</td>\n",
       "      <td>39</td>\n",
       "      <td>4.0</td>\n",
       "      <td>0</td>\n",
       "      <td>0.0</td>\n",
       "      <td>0.0</td>\n",
       "      <td>0</td>\n",
       "      <td>0</td>\n",
       "      <td>0</td>\n",
       "      <td>195.0</td>\n",
       "      <td>106.0</td>\n",
       "      <td>70.0</td>\n",
       "      <td>26.97</td>\n",
       "      <td>80.0</td>\n",
       "      <td>77.0</td>\n",
       "      <td>0</td>\n",
       "    </tr>\n",
       "    <tr>\n",
       "      <th>1</th>\n",
       "      <td>0</td>\n",
       "      <td>46</td>\n",
       "      <td>2.0</td>\n",
       "      <td>0</td>\n",
       "      <td>0.0</td>\n",
       "      <td>0.0</td>\n",
       "      <td>0</td>\n",
       "      <td>0</td>\n",
       "      <td>0</td>\n",
       "      <td>250.0</td>\n",
       "      <td>121.0</td>\n",
       "      <td>81.0</td>\n",
       "      <td>28.73</td>\n",
       "      <td>95.0</td>\n",
       "      <td>76.0</td>\n",
       "      <td>0</td>\n",
       "    </tr>\n",
       "    <tr>\n",
       "      <th>2</th>\n",
       "      <td>1</td>\n",
       "      <td>48</td>\n",
       "      <td>1.0</td>\n",
       "      <td>1</td>\n",
       "      <td>20.0</td>\n",
       "      <td>0.0</td>\n",
       "      <td>0</td>\n",
       "      <td>0</td>\n",
       "      <td>0</td>\n",
       "      <td>245.0</td>\n",
       "      <td>127.5</td>\n",
       "      <td>80.0</td>\n",
       "      <td>25.34</td>\n",
       "      <td>75.0</td>\n",
       "      <td>70.0</td>\n",
       "      <td>0</td>\n",
       "    </tr>\n",
       "    <tr>\n",
       "      <th>3</th>\n",
       "      <td>0</td>\n",
       "      <td>61</td>\n",
       "      <td>3.0</td>\n",
       "      <td>1</td>\n",
       "      <td>30.0</td>\n",
       "      <td>0.0</td>\n",
       "      <td>0</td>\n",
       "      <td>1</td>\n",
       "      <td>0</td>\n",
       "      <td>225.0</td>\n",
       "      <td>150.0</td>\n",
       "      <td>95.0</td>\n",
       "      <td>28.58</td>\n",
       "      <td>65.0</td>\n",
       "      <td>103.0</td>\n",
       "      <td>1</td>\n",
       "    </tr>\n",
       "    <tr>\n",
       "      <th>4</th>\n",
       "      <td>0</td>\n",
       "      <td>46</td>\n",
       "      <td>3.0</td>\n",
       "      <td>1</td>\n",
       "      <td>23.0</td>\n",
       "      <td>0.0</td>\n",
       "      <td>0</td>\n",
       "      <td>0</td>\n",
       "      <td>0</td>\n",
       "      <td>285.0</td>\n",
       "      <td>130.0</td>\n",
       "      <td>84.0</td>\n",
       "      <td>23.10</td>\n",
       "      <td>85.0</td>\n",
       "      <td>85.0</td>\n",
       "      <td>0</td>\n",
       "    </tr>\n",
       "    <tr>\n",
       "      <th>...</th>\n",
       "      <td>...</td>\n",
       "      <td>...</td>\n",
       "      <td>...</td>\n",
       "      <td>...</td>\n",
       "      <td>...</td>\n",
       "      <td>...</td>\n",
       "      <td>...</td>\n",
       "      <td>...</td>\n",
       "      <td>...</td>\n",
       "      <td>...</td>\n",
       "      <td>...</td>\n",
       "      <td>...</td>\n",
       "      <td>...</td>\n",
       "      <td>...</td>\n",
       "      <td>...</td>\n",
       "      <td>...</td>\n",
       "    </tr>\n",
       "    <tr>\n",
       "      <th>4233</th>\n",
       "      <td>1</td>\n",
       "      <td>50</td>\n",
       "      <td>1.0</td>\n",
       "      <td>1</td>\n",
       "      <td>1.0</td>\n",
       "      <td>0.0</td>\n",
       "      <td>0</td>\n",
       "      <td>1</td>\n",
       "      <td>0</td>\n",
       "      <td>313.0</td>\n",
       "      <td>179.0</td>\n",
       "      <td>92.0</td>\n",
       "      <td>25.97</td>\n",
       "      <td>66.0</td>\n",
       "      <td>86.0</td>\n",
       "      <td>1</td>\n",
       "    </tr>\n",
       "    <tr>\n",
       "      <th>4234</th>\n",
       "      <td>1</td>\n",
       "      <td>51</td>\n",
       "      <td>3.0</td>\n",
       "      <td>1</td>\n",
       "      <td>43.0</td>\n",
       "      <td>0.0</td>\n",
       "      <td>0</td>\n",
       "      <td>0</td>\n",
       "      <td>0</td>\n",
       "      <td>207.0</td>\n",
       "      <td>126.5</td>\n",
       "      <td>80.0</td>\n",
       "      <td>19.71</td>\n",
       "      <td>65.0</td>\n",
       "      <td>68.0</td>\n",
       "      <td>0</td>\n",
       "    </tr>\n",
       "    <tr>\n",
       "      <th>4235</th>\n",
       "      <td>0</td>\n",
       "      <td>48</td>\n",
       "      <td>2.0</td>\n",
       "      <td>1</td>\n",
       "      <td>20.0</td>\n",
       "      <td>NaN</td>\n",
       "      <td>0</td>\n",
       "      <td>0</td>\n",
       "      <td>0</td>\n",
       "      <td>248.0</td>\n",
       "      <td>131.0</td>\n",
       "      <td>72.0</td>\n",
       "      <td>22.00</td>\n",
       "      <td>84.0</td>\n",
       "      <td>86.0</td>\n",
       "      <td>0</td>\n",
       "    </tr>\n",
       "    <tr>\n",
       "      <th>4236</th>\n",
       "      <td>0</td>\n",
       "      <td>44</td>\n",
       "      <td>1.0</td>\n",
       "      <td>1</td>\n",
       "      <td>15.0</td>\n",
       "      <td>0.0</td>\n",
       "      <td>0</td>\n",
       "      <td>0</td>\n",
       "      <td>0</td>\n",
       "      <td>210.0</td>\n",
       "      <td>126.5</td>\n",
       "      <td>87.0</td>\n",
       "      <td>19.16</td>\n",
       "      <td>86.0</td>\n",
       "      <td>NaN</td>\n",
       "      <td>0</td>\n",
       "    </tr>\n",
       "    <tr>\n",
       "      <th>4237</th>\n",
       "      <td>0</td>\n",
       "      <td>52</td>\n",
       "      <td>2.0</td>\n",
       "      <td>0</td>\n",
       "      <td>0.0</td>\n",
       "      <td>0.0</td>\n",
       "      <td>0</td>\n",
       "      <td>0</td>\n",
       "      <td>0</td>\n",
       "      <td>269.0</td>\n",
       "      <td>133.5</td>\n",
       "      <td>83.0</td>\n",
       "      <td>21.47</td>\n",
       "      <td>80.0</td>\n",
       "      <td>107.0</td>\n",
       "      <td>0</td>\n",
       "    </tr>\n",
       "  </tbody>\n",
       "</table>\n",
       "<p>4238 rows × 16 columns</p>\n",
       "</div>"
      ],
      "text/plain": [
       "      male  age  education  currentSmoker  cigsPerDay  BPMeds  \\\n",
       "0        1   39        4.0              0         0.0     0.0   \n",
       "1        0   46        2.0              0         0.0     0.0   \n",
       "2        1   48        1.0              1        20.0     0.0   \n",
       "3        0   61        3.0              1        30.0     0.0   \n",
       "4        0   46        3.0              1        23.0     0.0   \n",
       "...    ...  ...        ...            ...         ...     ...   \n",
       "4233     1   50        1.0              1         1.0     0.0   \n",
       "4234     1   51        3.0              1        43.0     0.0   \n",
       "4235     0   48        2.0              1        20.0     NaN   \n",
       "4236     0   44        1.0              1        15.0     0.0   \n",
       "4237     0   52        2.0              0         0.0     0.0   \n",
       "\n",
       "      prevalentStroke  prevalentHyp  diabetes  totChol  sysBP  diaBP    BMI  \\\n",
       "0                   0             0         0    195.0  106.0   70.0  26.97   \n",
       "1                   0             0         0    250.0  121.0   81.0  28.73   \n",
       "2                   0             0         0    245.0  127.5   80.0  25.34   \n",
       "3                   0             1         0    225.0  150.0   95.0  28.58   \n",
       "4                   0             0         0    285.0  130.0   84.0  23.10   \n",
       "...               ...           ...       ...      ...    ...    ...    ...   \n",
       "4233                0             1         0    313.0  179.0   92.0  25.97   \n",
       "4234                0             0         0    207.0  126.5   80.0  19.71   \n",
       "4235                0             0         0    248.0  131.0   72.0  22.00   \n",
       "4236                0             0         0    210.0  126.5   87.0  19.16   \n",
       "4237                0             0         0    269.0  133.5   83.0  21.47   \n",
       "\n",
       "      heartRate  glucose  TenYearCHD  \n",
       "0          80.0     77.0           0  \n",
       "1          95.0     76.0           0  \n",
       "2          75.0     70.0           0  \n",
       "3          65.0    103.0           1  \n",
       "4          85.0     85.0           0  \n",
       "...         ...      ...         ...  \n",
       "4233       66.0     86.0           1  \n",
       "4234       65.0     68.0           0  \n",
       "4235       84.0     86.0           0  \n",
       "4236       86.0      NaN           0  \n",
       "4237       80.0    107.0           0  \n",
       "\n",
       "[4238 rows x 16 columns]"
      ]
     },
     "execution_count": 129,
     "metadata": {},
     "output_type": "execute_result"
    }
   ],
   "source": [
    "data"
   ]
  },
  {
   "cell_type": "code",
   "execution_count": 130,
   "metadata": {},
   "outputs": [],
   "source": [
    "data.fillna(data.mean(), inplace=True)\n",
    "\n",
    "data_array = data.values"
   ]
  },
  {
   "cell_type": "code",
   "execution_count": 131,
   "metadata": {},
   "outputs": [
    {
     "data": {
      "text/plain": [
       "array([[  1.        ,  39.        ,   4.        , ...,  80.        ,\n",
       "         77.        ,   0.        ],\n",
       "       [  0.        ,  46.        ,   2.        , ...,  95.        ,\n",
       "         76.        ,   0.        ],\n",
       "       [  1.        ,  48.        ,   1.        , ...,  75.        ,\n",
       "         70.        ,   0.        ],\n",
       "       ...,\n",
       "       [  0.        ,  48.        ,   2.        , ...,  84.        ,\n",
       "         86.        ,   0.        ],\n",
       "       [  0.        ,  44.        ,   1.        , ...,  86.        ,\n",
       "         81.96675325,   0.        ],\n",
       "       [  0.        ,  52.        ,   2.        , ...,  80.        ,\n",
       "        107.        ,   0.        ]])"
      ]
     },
     "execution_count": 131,
     "metadata": {},
     "output_type": "execute_result"
    }
   ],
   "source": [
    "data_array"
   ]
  },
  {
   "attachments": {},
   "cell_type": "markdown",
   "metadata": {},
   "source": [
    "### Task 1.2 - 1.3\n",
    "Ajustar un modelo logístico polinomial en base al juego de datos cargado de forma matricial que relaciona las variables independientes que usted considere apropiadas (puede no utilizar todas las componentes de X), con la variable dependiente de salida (sufre o no sufre un paro cardíaco).   \n",
    "\n",
    "Utilice la implementación vectorial del algoritmo de regresión logística (descenso del gradiente visto en clase).\n"
   ]
  },
  {
   "cell_type": "code",
   "execution_count": 132,
   "metadata": {},
   "outputs": [],
   "source": [
    "# Componentes de X\n",
    "X = data_array[:, 9:15]\n"
   ]
  },
  {
   "cell_type": "code",
   "execution_count": 133,
   "metadata": {},
   "outputs": [
    {
     "data": {
      "text/plain": [
       "array([[195.        , 106.        ,  70.        ,  26.97      ,\n",
       "         80.        ,  77.        ],\n",
       "       [250.        , 121.        ,  81.        ,  28.73      ,\n",
       "         95.        ,  76.        ],\n",
       "       [245.        , 127.5       ,  80.        ,  25.34      ,\n",
       "         75.        ,  70.        ],\n",
       "       ...,\n",
       "       [248.        , 131.        ,  72.        ,  22.        ,\n",
       "         84.        ,  86.        ],\n",
       "       [210.        , 126.5       ,  87.        ,  19.16      ,\n",
       "         86.        ,  81.96675325],\n",
       "       [269.        , 133.5       ,  83.        ,  21.47      ,\n",
       "         80.        , 107.        ]])"
      ]
     },
     "execution_count": 133,
     "metadata": {},
     "output_type": "execute_result"
    }
   ],
   "source": [
    "X"
   ]
  },
  {
   "cell_type": "code",
   "execution_count": 134,
   "metadata": {},
   "outputs": [],
   "source": [
    "# Variable de salida\n",
    "y = data_array[:, -1].astype(int)"
   ]
  },
  {
   "cell_type": "code",
   "execution_count": 135,
   "metadata": {},
   "outputs": [
    {
     "data": {
      "text/plain": [
       "array([[0],\n",
       "       [0],\n",
       "       [0],\n",
       "       ...,\n",
       "       [0],\n",
       "       [0],\n",
       "       [0]])"
      ]
     },
     "execution_count": 135,
     "metadata": {},
     "output_type": "execute_result"
    }
   ],
   "source": [
    "y.reshape(y.shape[0], 1)"
   ]
  },
  {
   "cell_type": "code",
   "execution_count": 136,
   "metadata": {},
   "outputs": [
    {
     "data": {
      "text/plain": [
       "(4238, 6)"
      ]
     },
     "execution_count": 136,
     "metadata": {},
     "output_type": "execute_result"
    }
   ],
   "source": [
    "X.shape"
   ]
  },
  {
   "cell_type": "code",
   "execution_count": 137,
   "metadata": {},
   "outputs": [
    {
     "data": {
      "text/plain": [
       "array([ 15.54,  15.96,  16.48, ..., 464.  , 600.  , 696.  ])"
      ]
     },
     "execution_count": 137,
     "metadata": {},
     "output_type": "execute_result"
    }
   ],
   "source": [
    "np.unique(X)"
   ]
  },
  {
   "cell_type": "code",
   "execution_count": 138,
   "metadata": {},
   "outputs": [
    {
     "name": "stdout",
     "output_type": "stream",
     "text": [
      "[[195.         106.          70.          26.97        80.\n",
      "   77.        ]\n",
      " [250.         121.          81.          28.73        95.\n",
      "   76.        ]\n",
      " [245.         127.5         80.          25.34        75.\n",
      "   70.        ]\n",
      " ...\n",
      " [180.         113.          73.          17.65        70.\n",
      "   73.        ]\n",
      " [177.         127.          79.          20.12        70.\n",
      "   88.        ]\n",
      " [242.         115.          70.          32.07        83.\n",
      "   81.96675325]]\n",
      "[[258.         146.          98.5         26.05        60.\n",
      "   68.        ]\n",
      " [218.         148.          80.          37.04        82.\n",
      "   78.        ]\n",
      " [195.         137.          93.          26.39        88.\n",
      "   75.        ]\n",
      " ...\n",
      " [248.         131.          72.          22.          84.\n",
      "   86.        ]\n",
      " [210.         126.5         87.          19.16        86.\n",
      "   81.96675325]\n",
      " [269.         133.5         83.          21.47        80.\n",
      "  107.        ]]\n",
      "[0 0 0 ... 0 0 0]\n",
      "[0 0 0 ... 0 0 0]\n"
     ]
    }
   ],
   "source": [
    "# Division en variables de entrenamiento y de testing\n",
    "\n",
    "X_test, X_train = X[:len(X)//2], X[len(X)//2:]\n",
    "print(X_test)\n",
    "print(X_train)\n",
    "Y_test, Y_train = y[:len(y)//2], y[len(y)//2:]\n",
    "print(Y_test)\n",
    "print(Y_train)"
   ]
  },
  {
   "cell_type": "code",
   "execution_count": 139,
   "metadata": {},
   "outputs": [
    {
     "name": "stdout",
     "output_type": "stream",
     "text": [
      "Cost despues de iteracion 0: 1468.778876\n"
     ]
    }
   ],
   "source": [
    "def sigmoid(z):\n",
    "    return 1 / (1 + np.exp(-z))\n",
    "\n",
    "def logistic_regression(X, y, learning_rate=0.01, num_iterations=100):\n",
    "    m, n = X.shape\n",
    "    weights = np.zeros((n, 1))\n",
    "    bias = 0\n",
    "    for i in range(num_iterations):\n",
    "        #Propagacion\n",
    "        y_pred = sigmoid(np.dot(X, weights) + bias)\n",
    "\n",
    "        # Costos\n",
    "        cost = (-1/m) * np.sum(y * np.log(y_pred) + (1-y) * np.log(1-y_pred))\n",
    "\n",
    "        \n",
    "        # Calculo de gradiente\n",
    "        dw = (1/m) * np.dot(X.T, (y_pred-y))\n",
    "        db = (1/m) * np.sum(y_pred-y)\n",
    "\n",
    "        \n",
    "\n",
    "        weights = weights - learning_rate * dw\n",
    "        bias = bias - learning_rate * db\n",
    "        \n",
    "        # Costos cada 100 iteraciones\n",
    "        if i % 100 == 0:\n",
    "            print(\"Cost despues de iteracion %i: %f\" % (i, cost))\n",
    "\n",
    "    return weights, bias\n",
    "\n",
    "weights, bias = logistic_regression(X_train, Y_train, learning_rate=0.0001, num_iterations=100)"
   ]
  },
  {
   "cell_type": "code",
   "execution_count": 140,
   "metadata": {},
   "outputs": [
    {
     "name": "stdout",
     "output_type": "stream",
     "text": [
      "Accuracy: 74.32751297781972 %\n"
     ]
    }
   ],
   "source": [
    "def predict(X, weights, bias):\n",
    "    y_pred = sigmoid(np.dot(X, weights) + bias)\n",
    "\n",
    "    y_pred[y_pred > 0.5] = 1\n",
    "    y_pred[y_pred <= 0.5] = 0\n",
    "\n",
    "    return y_pred\n",
    "\n",
    "# Make predictions on the test set\n",
    "y_pred = predict(X_test, weights, bias)\n",
    "\n",
    "# Compute the accuracy\n",
    "accuracy = (1 - np.mean(np.abs(y_pred - Y_test))) * 100\n",
    "\n",
    "print(\"Accuracy:\", accuracy, \"%\")"
   ]
  },
  {
   "attachments": {},
   "cell_type": "markdown",
   "metadata": {},
   "source": [
    "### Task 1.4\n",
    "Usando cross-validation determine el grado del polinomio que mejor describe la nube de puntos (encuentre el mejor balance entre apego a los datos de entrenamiento y generalización para datos previamente no observados)."
   ]
  },
  {
   "cell_type": "code",
   "execution_count": 148,
   "metadata": {},
   "outputs": [],
   "source": [
    "def cross_validation(X, y, k=2, learning_rate=0.01, num_iters=100, degree_range = range(1,6)):\n",
    "    m, n = X.shape\n",
    "    fold_size = int(m/k)\n",
    "    best_degree = None\n",
    "    best_accuracy = 0\n",
    "    \n",
    "    for degree in degree_range:\n",
    "        X_poly = np.ones((m, 1))\n",
    "        for d in range(1, degree+1):\n",
    "            X_poly = np.hstack((X_poly, np.power(X, d)))\n",
    "            \n",
    "        for i in range(k):\n",
    "            X_val = X_poly[i*fold_size:(i+1)*fold_size, :]\n",
    "            y_val = y[i*fold_size:(i+1)*fold_size]\n",
    "            X_train = np.vstack((X_poly[:i*fold_size, :], X_poly[(i+1)*fold_size:, :]))\n",
    "            y_train = np.concatenate((y[:i*fold_size], y[(i+1)*fold_size:]))\n",
    "            \n",
    "            weights, bias = logistic_regression(X_train, y_train, learning_rate, num_iters)\n",
    "            \n",
    "            y_pred = predict(X_val, weights, bias)\n",
    "            \n",
    "            accuracy = np.mean(y_pred == y_val)\n",
    "            \n",
    "            if accuracy > best_accuracy:\n",
    "                best_degree = degree\n",
    "                best_accuracy = accuracy\n",
    "                \n",
    "    return best_degree, best_accuracy  "
   ]
  },
  {
   "cell_type": "code",
   "execution_count": 149,
   "metadata": {},
   "outputs": [
    {
     "name": "stdout",
     "output_type": "stream",
     "text": [
      "Cost despues de iteracion 0: 1468.778876\n"
     ]
    },
    {
     "name": "stderr",
     "output_type": "stream",
     "text": [
      "C:\\Users\\Andre\\AppData\\Local\\Temp\\ipykernel_9136\\95068840.py:2: RuntimeWarning: overflow encountered in exp\n",
      "  return 1 / (1 + np.exp(-z))\n",
      "C:\\Users\\Andre\\AppData\\Local\\Temp\\ipykernel_9136\\95068840.py:13: RuntimeWarning: divide by zero encountered in log\n",
      "  cost = (-1/m) * np.sum(y * np.log(y_pred) + (1-y) * np.log(1-y_pred))\n",
      "C:\\Users\\Andre\\AppData\\Local\\Temp\\ipykernel_9136\\95068840.py:13: RuntimeWarning: invalid value encountered in multiply\n",
      "  cost = (-1/m) * np.sum(y * np.log(y_pred) + (1-y) * np.log(1-y_pred))\n"
     ]
    },
    {
     "name": "stdout",
     "output_type": "stream",
     "text": [
      "Cost despues de iteracion 0: 1468.778876\n",
      "Cost despues de iteracion 0: 1468.778876\n",
      "Cost despues de iteracion 0: 1468.778876\n",
      "Cost despues de iteracion 0: 1468.778876\n",
      "Cost despues de iteracion 0: 1468.778876\n",
      "Cost despues de iteracion 0: 1468.778876\n",
      "Cost despues de iteracion 0: 1468.778876\n",
      "Cost despues de iteracion 0: 1468.778876\n",
      "Cost despues de iteracion 0: 1468.778876\n",
      "Best_degree:  1\n",
      "best_accuracy:  0.7432751297781972\n"
     ]
    }
   ],
   "source": [
    "best_degree, best_accuracy = cross_validation(X, y)\n",
    "\n",
    "print('Best_degree: ', best_degree)\n",
    "print('best_accuracy: ', best_accuracy)"
   ]
  },
  {
   "attachments": {},
   "cell_type": "markdown",
   "metadata": {},
   "source": [
    "### Task 1.5 - Hallazgos"
   ]
  },
  {
   "attachments": {},
   "cell_type": "markdown",
   "metadata": {},
   "source": [
    "El uso del modelo de regresion logistica resulto ser moderadamente efectivo en cuanto a sus predicciones con los valores dados, como se puede observar, se obtuvo un 74% de aciertos en los datos de testeo posterior al entrenamiento del modelo. Por otro lado, la validacion cruzada nos ayuda a obtener la mejor variante de grado de polinomio, que nos ayude a representar de una mejor manera el modelo y reducir los posibles errores que se podrian llegar a presentar. Vale la pena mencionar que, la variable resultante es bastante dependiente del colesterol total que contiene asi como su nivel de glucosa y sus mediciones relacionadas al pulso del corazon, por lo que valdria la pena entrenar al modelo con datos similares para reducir las posibles incertidumbres acerca de las predicciones.\n",
    "\n",
    "Recomendaciones para mejorar el modelo:\n",
    "- Se podria utilizar una mayor cantidad de datos de entrenamiento al momento de entrenar el modelo, de esta manera se podra aumentar el porcentaje de precision del mismo.\n",
    "- Se podrian utilizar otro tipo de variables (que posiblemente no esten listadas) que se correlacionen mas en cuanto si el paciente tiende mas a tener un infarto o no.\n",
    "- Se podria mejorar la implementacion del modelo utilizando librerias externas que quizas tengan un mejor rendimiento que el actual."
   ]
  }
 ],
 "metadata": {
  "kernelspec": {
   "display_name": "Python 3",
   "language": "python",
   "name": "python3"
  },
  "language_info": {
   "codemirror_mode": {
    "name": "ipython",
    "version": 3
   },
   "file_extension": ".py",
   "mimetype": "text/x-python",
   "name": "python",
   "nbconvert_exporter": "python",
   "pygments_lexer": "ipython3",
   "version": "3.10.10"
  },
  "orig_nbformat": 4
 },
 "nbformat": 4,
 "nbformat_minor": 2
}
